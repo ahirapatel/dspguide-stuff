{
 "cells": [
  {
   "cell_type": "markdown",
   "metadata": {},
   "source": [
    "### Differences between number of samples in filter kernel"
   ]
  },
  {
   "cell_type": "code",
   "execution_count": 6,
   "metadata": {},
   "outputs": [
    {
     "data": {
      "application/vnd.jupyter.widget-view+json": {
       "model_id": "72559260b7eb4cea9ff9bb485647ca00"
      }
     },
     "metadata": {},
     "output_type": "display_data"
    },
    {
     "data": {
      "text/plain": [
       "<function __main__.plot_sinc>"
      ]
     },
     "execution_count": 6,
     "metadata": {},
     "output_type": "execute_result"
    }
   ],
   "source": [
    "from math import sin, cos, pi\n",
    "import matplotlib.pyplot\n",
    "# jupyter nbextension enable --py widgetsnbextension\n",
    "from ipywidgets import interact, interactive, fixed, interact_manual\n",
    "import ipywidgets as widgets\n",
    "\n",
    "def make_sinc(num_values): #num_values + 1\n",
    "    h = []\n",
    "    fc = .2 # cutoff frequency\n",
    "    for i in range(-num_values//2, num_values//2+1):\n",
    "        if i != 0:\n",
    "            h.append(sin(2*pi*fc*i) / (i*pi))\n",
    "        else:\n",
    "            h.append(1)\n",
    "    return h\n",
    "def plot_sinc(num_values):\n",
    "    matplotlib.pyplot.plot(make_sinc(num_values))\n",
    "    matplotlib.pyplot.show()\n",
    "    \n",
    "interact(plot_sinc, num_values=(1,500,1))"
   ]
  },
  {
   "cell_type": "code",
   "execution_count": 7,
   "metadata": {},
   "outputs": [
    {
     "data": {
      "application/vnd.jupyter.widget-view+json": {
       "model_id": "21025ecc440641b88926504a4c97a0b4"
      }
     },
     "metadata": {},
     "output_type": "display_data"
    },
    {
     "data": {
      "text/plain": [
       "<function __main__.plot_sinc_freq_resp>"
      ]
     },
     "execution_count": 7,
     "metadata": {},
     "output_type": "execute_result"
    }
   ],
   "source": [
    "from numpy.fft import rfft\n",
    "from numpy import absolute\n",
    "# Get magnitude of FFT\n",
    "def plot_sinc_freq_resp(num_values):\n",
    "    mag = absolute(rfft(make_sinc(num_values)))\n",
    "    matplotlib.pyplot.plot(mag)\n",
    "    matplotlib.pyplot.show()\n",
    "\n",
    "interact(plot_sinc_freq_resp, num_values=(1,100000,50))"
   ]
  },
  {
   "cell_type": "markdown",
   "metadata": {},
   "source": [
    "### How number of samples impact frequency response of blackman-windowed-sinc"
   ]
  },
  {
   "cell_type": "code",
   "execution_count": 8,
   "metadata": {},
   "outputs": [
    {
     "data": {
      "application/vnd.jupyter.widget-view+json": {
       "model_id": "043720d281cc4e878518ae4048399472"
      }
     },
     "metadata": {},
     "output_type": "display_data"
    },
    {
     "data": {
      "text/plain": [
       "<function __main__.plot_bws_and_spectrum>"
      ]
     },
     "execution_count": 8,
     "metadata": {},
     "output_type": "execute_result"
    }
   ],
   "source": [
    "def blackman_windowed_sinc(M, fc):\n",
    "    h = []\n",
    "    for i in range(0,M+1):\n",
    "        if i == M//2: \n",
    "            result = 2*pi*fc\n",
    "        else:\n",
    "            sinc = sin(2*pi*fc*(i - M/2)) / (i - M/2)\n",
    "            blackman = 0.42 - 0.5*cos(2*pi*i/M) + 0.08*cos(4*pi*i/M)\n",
    "            result = sinc * blackman\n",
    "        \n",
    "        h.append(result)\n",
    "    # Normalize, so all samples add up to 1 and there is no DC offset\n",
    "    K = sum(h)\n",
    "    h = [val / K for val in h]\n",
    "    return h\n",
    "\n",
    "def plot_bws_and_spectrum(M, fc):\n",
    "    bws = blackman_windowed_sinc(M, fc)\n",
    "    matplotlib.pyplot.plot(bws)\n",
    "    matplotlib.pyplot.show()\n",
    "    matplotlib.pyplot.plot(absolute(rfft(bws)))\n",
    "    matplotlib.pyplot.show()\n",
    "    matplotlib.pyplot.yscale('log')\n",
    "    matplotlib.pyplot.plot(absolute(rfft(bws)))\n",
    "    matplotlib.pyplot.show()\n",
    "    \n",
    "# If M is not even, you get some weird behavior where frequencies pre-cutoff get attentuated slightly\n",
    "interact(plot_bws_and_spectrum, M=(2,2000,2), fc=(0,.5,.01))"
   ]
  },
  {
   "cell_type": "markdown",
   "metadata": {},
   "source": [
    "### Improving stopband attentuation"
   ]
  },
  {
   "cell_type": "code",
   "execution_count": 9,
   "metadata": {},
   "outputs": [
    {
     "data": {
      "application/vnd.jupyter.widget-view+json": {
       "model_id": "962f2f81a90e407a9d61d2d2a07271b7"
      }
     },
     "metadata": {},
     "output_type": "display_data"
    },
    {
     "data": {
      "text/plain": [
       "<function __main__.plot_bws_and_spectrum>"
      ]
     },
     "execution_count": 9,
     "metadata": {},
     "output_type": "execute_result"
    }
   ],
   "source": [
    "from numpy import convolve\n",
    "def plot_bws_and_spectrum(M, fc):\n",
    "    bws = blackman_windowed_sinc(M, fc)\n",
    "    bws = convolve(bws, bws) # apply filter again\n",
    "    matplotlib.pyplot.plot(bws)\n",
    "    matplotlib.pyplot.show()\n",
    "    matplotlib.pyplot.yscale('log')\n",
    "    matplotlib.pyplot.plot(absolute(rfft(bws)))\n",
    "    matplotlib.pyplot.show()\n",
    "    \n",
    "# If M is not even, you get some weird behavior where frequencies pre-cutoff get attentuated slightly\n",
    "interact(plot_bws_and_spectrum, M=(2,2000,2), fc=(0,.5,.01))"
   ]
  },
  {
   "cell_type": "code",
   "execution_count": 10,
   "metadata": {
    "collapsed": true
   },
   "outputs": [],
   "source": [
    "# When you replot the above three the web browser moves because the length of the page changes. It is annoying.\n",
    "#BUFFER\n",
    "#BUFFER\n",
    "#BUFFER\n",
    "#BUFFER\n",
    "#BUFFER\n",
    "#BUFFER\n",
    "#BUFFER\n",
    "#BUFFER\n",
    "#BUFFER\n",
    "#BUFFER\n",
    "#BUFFER\n",
    "#BUFFER\n",
    "#BUFFER\n",
    "#BUFFER\n",
    "#BUFFER\n",
    "#BUFFER\n",
    "#BUFFER\n",
    "#BUFFER\n",
    "#BUFFER\n",
    "#BUFFER\n",
    "#BUFFER\n",
    "#BUFFER\n",
    "#BUFFER\n",
    "#BUFFER\n",
    "\n",
    "#BUFFER\n",
    "#BUFFER\n",
    "#BUFFER\n",
    "#BUFFER\n",
    "#BUFFER\n",
    "#BUFFER\n",
    "#BUFFER\n",
    "#BUFFER\n",
    "#BUFFER\n",
    "#BUFFER\n",
    "#BUFFER\n",
    "#BUFFER\n",
    "#BUFFER\n",
    "#BUFFER\n",
    "#BUFFER\n",
    "#BUFFER\n",
    "#BUFFER\n",
    "#BUFFER\n",
    "#BUFFER\n",
    "#BUFFER\n",
    "#BUFFER\n",
    "#BUFFER\n",
    "#BUFFER\n",
    "#BUFFER\n",
    "\n"
   ]
  }
 ],
 "metadata": {
  "kernelspec": {
   "display_name": "Python 3",
   "language": "python",
   "name": "python3"
  },
  "language_info": {
   "codemirror_mode": {
    "name": "ipython",
    "version": 3
   },
   "file_extension": ".py",
   "mimetype": "text/x-python",
   "name": "python",
   "nbconvert_exporter": "python",
   "pygments_lexer": "ipython3",
   "version": "3.6.2"
  }
 },
 "nbformat": 4,
 "nbformat_minor": 2
}
